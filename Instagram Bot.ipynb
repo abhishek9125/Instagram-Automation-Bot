{
 "cells": [
  {
   "cell_type": "markdown",
   "metadata": {},
   "source": [
    "# INSTAGRAM BOT"
   ]
  },
  {
   "cell_type": "markdown",
   "metadata": {},
   "source": [
    "### Importing Libraries"
   ]
  },
  {
   "cell_type": "code",
   "execution_count": 241,
   "metadata": {},
   "outputs": [],
   "source": [
    "import re\n",
    "import time\n",
    "import argparse\n",
    "import numpy as np\n",
    "import pandas as pd\n",
    "import matplotlib.pyplot as plt\n",
    "from getpass import getpass\n",
    "from selenium import webdriver\n",
    "from selenium.webdriver.common.keys import Keys\n",
    "from selenium.common.exceptions import NoSuchElementException\n",
    "from selenium.common.exceptions import StaleElementReferenceException\n",
    "from selenium.common.exceptions import TimeoutException\n",
    "from selenium.webdriver.support.ui import WebDriverWait\n",
    "from selenium.webdriver.support import expected_conditions as EC\n",
    "from selenium.webdriver.common.by import By\n",
    "from selenium.webdriver.support.select import Select\n",
    "from selenium.webdriver.chrome.options import Options"
   ]
  },
  {
   "cell_type": "markdown",
   "metadata": {},
   "source": [
    "## Part1 : Automation"
   ]
  },
  {
   "cell_type": "markdown",
   "metadata": {},
   "source": [
    "### Starting Chrome Webdriver"
   ]
  },
  {
   "cell_type": "code",
   "execution_count": 15,
   "metadata": {},
   "outputs": [
    {
     "name": "stderr",
     "output_type": "stream",
     "text": [
      "C:\\ProgramData\\Anaconda3\\lib\\site-packages\\ipykernel_launcher.py:4: DeprecationWarning: use options instead of chrome_options\n",
      "  after removing the cwd from sys.path.\n"
     ]
    }
   ],
   "source": [
    "# Chrome Options changed to avoid Allow Notification popup\n",
    "chrome_options = webdriver.ChromeOptions()\n",
    "prefs = {\"profile.default_content_setting_values.notifications\" : 2}\n",
    "chrome_options.add_experimental_option(\"prefs\",prefs)\n",
    "driver = webdriver.Chrome('chromedriver',chrome_options=chrome_options)"
   ]
  },
  {
   "cell_type": "markdown",
   "metadata": {},
   "source": [
    "### Visiting Instagram"
   ]
  },
  {
   "cell_type": "code",
   "execution_count": 16,
   "metadata": {},
   "outputs": [],
   "source": [
    "driver.get('https://www.instagram.com/')\n",
    "driver.implicitly_wait(10)\n",
    "driver.maximize_window()"
   ]
  },
  {
   "cell_type": "code",
   "execution_count": 17,
   "metadata": {},
   "outputs": [],
   "source": [
    "# Wait for Instagram page to Load\n",
    "waiter=WebDriverWait(driver, 10).until(EC.presence_of_element_located((By.NAME, \"username\")))\n",
    "time.sleep(2)"
   ]
  },
  {
   "cell_type": "markdown",
   "metadata": {},
   "source": [
    "### Login into Instagram"
   ]
  },
  {
   "cell_type": "code",
   "execution_count": 18,
   "metadata": {},
   "outputs": [
    {
     "name": "stdout",
     "output_type": "stream",
     "text": [
      "Enter Password: ········\n"
     ]
    }
   ],
   "source": [
    "#Login to your Instagram Handle\n",
    "#Submit with sample username and password\n",
    "user = 'proton_professor'\n",
    "waiter=WebDriverWait(driver,10).until(EC.presence_of_element_located((By.NAME,\"username\")))\n",
    "username = driver.find_element_by_name('username')\n",
    "username.send_keys(user)\n",
    "password = driver.find_element_by_name('password')\n",
    "password.send_keys(getpass(\"Enter Password: \"))\n",
    "password.submit()"
   ]
  },
  {
   "cell_type": "markdown",
   "metadata": {},
   "source": [
    "### Login Info Check"
   ]
  },
  {
   "cell_type": "code",
   "execution_count": 21,
   "metadata": {},
   "outputs": [],
   "source": [
    "login_alert = driver.find_element_by_class_name('sqdOP')\n",
    "login_alert.click()"
   ]
  },
  {
   "cell_type": "markdown",
   "metadata": {},
   "source": [
    "### Enable Search Box"
   ]
  },
  {
   "cell_type": "code",
   "execution_count": 22,
   "metadata": {},
   "outputs": [],
   "source": [
    "#Type for “food” in search bar and print all the names of the Instagram Handles that are displayed in list after typing “food”\n",
    "#Note : Make sure to avoid printing hashtags\n",
    "Search = driver.find_elements_by_tag_name('input')\n",
    "Search[1].send_keys('food')\n",
    "waiter=WebDriverWait(driver, 10).until(EC.presence_of_element_located((By.XPATH, '//a[@class=\"yCE8d  \"]/div/div[2]/div/span')))\n",
    "list_path = driver.find_elements_by_xpath('//a[@class=\"yCE8d  \"]/div/div[2]/div/span')\n",
    "search_list = []\n",
    "for i in list_path:\n",
    "    x = i.get_attribute('innerHTML')\n",
    "    if(x[0]=='#'):\n",
    "        continue\n",
    "    search_list.append(x)\n",
    "waiter=WebDriverWait(driver, 10).until(EC.presence_of_element_located((By.CLASS_NAME, \"coreSpriteSearchClear\")))"
   ]
  },
  {
   "cell_type": "code",
   "execution_count": 25,
   "metadata": {},
   "outputs": [],
   "source": [
    "# Print Search List\n",
    "# print(search_list)"
   ]
  },
  {
   "cell_type": "code",
   "execution_count": 26,
   "metadata": {},
   "outputs": [],
   "source": [
    "# Clear Search Bar\n",
    "Search[1].clear()"
   ]
  },
  {
   "cell_type": "markdown",
   "metadata": {},
   "source": [
    "### Searching and Opening a Given Profile"
   ]
  },
  {
   "cell_type": "code",
   "execution_count": 36,
   "metadata": {},
   "outputs": [],
   "source": [
    "Search = driver.find_elements_by_tag_name('input')\n",
    "Search[1].send_keys('So Delhi')\n",
    "waiter=WebDriverWait(driver, 10).until(EC.presence_of_element_located((By.XPATH, '//a[@class=\"yCE8d  \"]/div/div[2]/div/span')))\n",
    "open_profile = driver.find_element_by_class_name('yCE8d')\n",
    "open_profile.click()"
   ]
  },
  {
   "cell_type": "markdown",
   "metadata": {},
   "source": [
    "### Following the User"
   ]
  },
  {
   "cell_type": "code",
   "execution_count": 52,
   "metadata": {},
   "outputs": [
    {
     "name": "stdout",
     "output_type": "stream",
     "text": [
      "Already Following this User\n"
     ]
    }
   ],
   "source": [
    "try:\n",
    "    follow = driver.find_element_by_class_name('BY3EC')\n",
    "    follow.click()\n",
    "except NoSuchElementException:\n",
    "    print(\"Already Following this User\")"
   ]
  },
  {
   "cell_type": "markdown",
   "metadata": {},
   "source": [
    "### Unfollowing the User"
   ]
  },
  {
   "cell_type": "code",
   "execution_count": 49,
   "metadata": {},
   "outputs": [
    {
     "name": "stdout",
     "output_type": "stream",
     "text": [
      "Already Unfollowed\n"
     ]
    }
   ],
   "source": [
    "try:\n",
    "    unfollow = driver.find_elements_by_class_name('sqdOP')[1]\n",
    "    unfollow.click()\n",
    "    unfollow_alert = driver.find_element_by_class_name('aOOlW')\n",
    "    unfollow_alert.click()\n",
    "except IndexError:\n",
    "    print(\"Already Unfollowed\")"
   ]
  },
  {
   "cell_type": "markdown",
   "metadata": {},
   "source": [
    "### Visiting Another Profile"
   ]
  },
  {
   "cell_type": "code",
   "execution_count": 86,
   "metadata": {},
   "outputs": [],
   "source": [
    "Search_from_profile = driver.find_elements_by_tag_name('input')\n",
    "Search_from_profile[1].clear()\n",
    "Search_from_profile[1].send_keys('dilsefoodie')\n",
    "waiter=WebDriverWait(driver, 10).until(EC.presence_of_element_located((By.CLASS_NAME, \"yCE8d\")))\n",
    "driver.find_element_by_class_name('yCE8d').click()\n",
    "time.sleep(3)"
   ]
  },
  {
   "cell_type": "markdown",
   "metadata": {},
   "source": [
    "### Manual Scrolling to Load Elements"
   ]
  },
  {
   "cell_type": "code",
   "execution_count": 87,
   "metadata": {},
   "outputs": [],
   "source": [
    "driver.execute_script('window.scrollBy(0, 3000);')\n",
    "time.sleep(2.5)\n",
    "driver.execute_script('window.scrollBy(0, 3000);')\n",
    "time.sleep(2.5)\n",
    "waiter=WebDriverWait(driver, 10).until(EC.presence_of_element_located((By.XPATH, '//div[contains(@class, \"Nnq7C\")]/div/a/div[1]')))"
   ]
  },
  {
   "cell_type": "markdown",
   "metadata": {},
   "source": [
    "### Liking Top 30 Posts"
   ]
  },
  {
   "cell_type": "code",
   "execution_count": 88,
   "metadata": {},
   "outputs": [],
   "source": [
    "post_open = driver.find_elements_by_class_name('_9AhH0')\n",
    "post_open = post_open[:30]"
   ]
  },
  {
   "cell_type": "code",
   "execution_count": 138,
   "metadata": {},
   "outputs": [
    {
     "name": "stdout",
     "output_type": "stream",
     "text": [
      "Already liked\n",
      "Already liked\n",
      "Already liked\n",
      "Already liked\n",
      "Already liked\n",
      "Already liked\n",
      "Already liked\n",
      "Already liked\n",
      "Already liked\n",
      "Already liked\n",
      "Already liked\n",
      "Already liked\n",
      "Already liked\n",
      "Already liked\n",
      "Already liked\n",
      "Already liked\n",
      "Already liked\n",
      "Already liked\n",
      "Already liked\n",
      "Already liked\n",
      "Already liked\n",
      "Already liked\n",
      "Already liked\n",
      "Already liked\n",
      "Already liked\n",
      "Already liked\n",
      "Already liked\n",
      "Already liked\n",
      "Already liked\n",
      "Already liked\n"
     ]
    }
   ],
   "source": [
    "for i in post_open:\n",
    "    i.click()\n",
    "    driver.implicitly_wait(40)\n",
    "    like_post = driver.find_element_by_xpath('//button[contains(@class,\"wpO6b\")]/div/span')\n",
    "    check_like = like_post.get_attribute('innerHTML')\n",
    "    b = check_like\n",
    "    y = re.split(r'[<>]',b) \n",
    "    if \"Unlike\" in y[1]:\n",
    "        print(\"Already liked\")\n",
    "    else:\n",
    "        like_post.click()\n",
    "        print(\"Liked the Post!\")\n",
    "    post_close = driver.find_element_by_xpath('//div[contains(@class,\"_2dDPU\")]/div[3]')\n",
    "    post_close.click()"
   ]
  },
  {
   "cell_type": "markdown",
   "metadata": {},
   "source": [
    "### Unliking Top 30 Posts"
   ]
  },
  {
   "cell_type": "code",
   "execution_count": 139,
   "metadata": {},
   "outputs": [
    {
     "name": "stdout",
     "output_type": "stream",
     "text": [
      "Unliked the Post!\n",
      "Unliked the Post!\n",
      "Unliked the Post!\n",
      "Unliked the Post!\n",
      "Unliked the Post!\n",
      "Unliked the Post!\n",
      "Unliked the Post!\n",
      "Unliked the Post!\n",
      "Unliked the Post!\n",
      "Unliked the Post!\n",
      "Unliked the Post!\n",
      "Unliked the Post!\n",
      "Unliked the Post!\n",
      "Unliked the Post!\n",
      "Unliked the Post!\n",
      "Unliked the Post!\n",
      "Unliked the Post!\n",
      "Unliked the Post!\n",
      "Unliked the Post!\n",
      "Unliked the Post!\n",
      "Unliked the Post!\n",
      "Unliked the Post!\n",
      "Unliked the Post!\n",
      "Unliked the Post!\n",
      "Unliked the Post!\n",
      "Unliked the Post!\n",
      "Unliked the Post!\n",
      "Unliked the Post!\n",
      "Unliked the Post!\n",
      "Unliked the Post!\n"
     ]
    }
   ],
   "source": [
    "#For Unliking\n",
    "for i in post_open:\n",
    "    i.click()\n",
    "    driver.implicitly_wait(10)\n",
    "    like_post = driver.find_element_by_xpath('//button[contains(@class,\"wpO6b\")]/div/span')\n",
    "    check_like = like_post.get_attribute('innerHTML')\n",
    "    b = check_like\n",
    "    y = re.split(r'[<>]',b) \n",
    "    if \"Unlike\" in y[1]:\n",
    "        print(\"Unliked the Post!\")\n",
    "        like_post.click()\n",
    "    else:\n",
    "        print(\"Already Unliked\")\n",
    "    post_close = driver.find_element_by_xpath('//div[contains(@class,\"_2dDPU\")]/div[3]')\n",
    "    post_close.click()"
   ]
  },
  {
   "cell_type": "markdown",
   "metadata": {},
   "source": [
    "### Extracting List of Followers of a Particular ID"
   ]
  },
  {
   "cell_type": "code",
   "execution_count": 142,
   "metadata": {},
   "outputs": [],
   "source": [
    "# Visit the Profile\n",
    "Search_from_profile = driver.find_elements_by_tag_name('input')\n",
    "Search_from_profile[1].clear()\n",
    "Search_from_profile[1].send_keys('So Delhi')\n",
    "waiter=WebDriverWait(driver, 10).until(EC.presence_of_element_located((By.CLASS_NAME, \"yCE8d\")))\n",
    "driver.find_element_by_class_name('yCE8d').click()\n",
    "time.sleep(3)"
   ]
  },
  {
   "cell_type": "markdown",
   "metadata": {},
   "source": [
    "#### Open Followers List"
   ]
  },
  {
   "cell_type": "code",
   "execution_count": 227,
   "metadata": {},
   "outputs": [],
   "source": [
    "follower_list_open = driver.find_elements_by_class_name('-nal3')\n",
    "# follower_list_open[1].get_attribute('outerHTML')\n",
    "follower_list_open[1].click()"
   ]
  },
  {
   "cell_type": "code",
   "execution_count": 228,
   "metadata": {},
   "outputs": [],
   "source": [
    "while True:\n",
    "    try:\n",
    "        followers = []\n",
    "        count = 0\n",
    "        while True:\n",
    "            elements = driver.find_elements_by_xpath('//a[contains(@class,\"notranslate\")]')\n",
    "            if len(elements)<500:\n",
    "                waiter = WebDriverWait(driver,10).until(EC.presence_of_element_located((By.XPATH,'//ul[contains(@class,\"jSC57\")]')))\n",
    "                driver.execute_script('arguments[0].scrollIntoView(0,100)',driver.find_element_by_xpath('//ul[contains(@class,\"jSC57\")]'))\n",
    "                time.sleep(1)\n",
    "            i = elements[count].get_attribute('innerHTML')\n",
    "            url = \"https://www.instagram.com/\" + i + \"/\"\n",
    "            followers.append(url)\n",
    "            if len(followers)>=500:\n",
    "                break\n",
    "            count = count + 1\n",
    "        break\n",
    "    except StaleElementReferenceException:\n",
    "        continue"
   ]
  },
  {
   "cell_type": "code",
   "execution_count": 240,
   "metadata": {},
   "outputs": [
    {
     "name": "stdout",
     "output_type": "stream",
     "text": [
      "https://www.instagram.com/ruths_mohite/\n",
      "https://www.instagram.com/proton_professor/\n",
      "https://www.instagram.com/the.yummy.bite/\n",
      "https://www.instagram.com/arushi._.99/\n",
      "https://www.instagram.com/the_delhi_raabta/\n",
      "https://www.instagram.com/meme.r0867/\n",
      "https://www.instagram.com/rocky1ucseller/\n",
      "https://www.instagram.com/gypsy__soul__/\n",
      "https://www.instagram.com/lagombypalak/\n",
      "https://www.instagram.com/chiranjeevi_69/\n",
      "https://www.instagram.com/nikhil_baisla_018/\n",
      "https://www.instagram.com/suraj.kaushik4528/\n",
      "https://www.instagram.com/das__deepika/\n",
      "https://www.instagram.com/vinit.kush/\n",
      "https://www.instagram.com/epicure_from_heart/\n",
      "https://www.instagram.com/ksshhv.v/\n",
      "https://www.instagram.com/haris00786/\n",
      "https://www.instagram.com/ruki.me/\n",
      "https://www.instagram.com/doggysundays/\n",
      "https://www.instagram.com/iam_ankurgupta/\n",
      "https://www.instagram.com/iamkunal1112/\n",
      "https://www.instagram.com/mrsfoodiehot/\n",
      "https://www.instagram.com/bakelane9/\n",
      "https://www.instagram.com/its_starb0y/\n",
      "https://www.instagram.com/bhavishyasingh837/\n",
      "https://www.instagram.com/mayuree_chetia0309/\n",
      "https://www.instagram.com/iam_ginni_/\n",
      "https://www.instagram.com/_sheena.bhatia_/\n",
      "https://www.instagram.com/all_family_problem_solution23/\n",
      "https://www.instagram.com/sam_chandhok/\n",
      "https://www.instagram.com/asma_asif/\n",
      "https://www.instagram.com/simsayshello_/\n",
      "https://www.instagram.com/rasoda_the_kitchen/\n",
      "https://www.instagram.com/rishabhgarg5/\n",
      "https://www.instagram.com/chakh_kar_dekho/\n",
      "https://www.instagram.com/saiima_pjm/\n",
      "https://www.instagram.com/sarlamanzzani/\n",
      "https://www.instagram.com/__mani__aulakh__/\n",
      "https://www.instagram.com/kalnayak_9/\n",
      "https://www.instagram.com/komaljain.2110/\n",
      "https://www.instagram.com/bhawna22june/\n",
      "https://www.instagram.com/jasmine_mehrotra/\n",
      "https://www.instagram.com/parasm_/\n",
      "https://www.instagram.com/mr_____rocky07/\n",
      "https://www.instagram.com/vikrant.wagglay/\n",
      "https://www.instagram.com/its_mekailash/\n",
      "https://www.instagram.com/attikali/\n",
      "https://www.instagram.com/___shivani11b/\n",
      "https://www.instagram.com/surbhisatti/\n",
      "https://www.instagram.com/moana.hills.83/\n",
      "https://www.instagram.com/selfimprovement__books/\n",
      "https://www.instagram.com/obaid_sid/\n",
      "https://www.instagram.com/thefoodpoint1/\n",
      "https://www.instagram.com/mohitgujjar15/\n",
      "https://www.instagram.com/wanderers.place/\n",
      "https://www.instagram.com/akashgadhavepatil/\n",
      "https://www.instagram.com/nisarg_2226/\n",
      "https://www.instagram.com/prettyparrotsbyparul/\n",
      "https://www.instagram.com/beautifulinsideoutblog/\n",
      "https://www.instagram.com/kanishq_basoya_dellhii0001/\n",
      "https://www.instagram.com/sadaf_04khan/\n",
      "https://www.instagram.com/_gangzzz__/\n",
      "https://www.instagram.com/nehasolanki_04/\n",
      "https://www.instagram.com/dhara._.01/\n",
      "https://www.instagram.com/loveproblem.expert/\n",
      "https://www.instagram.com/amandepkaur_/\n",
      "https://www.instagram.com/indian_boy56/\n",
      "https://www.instagram.com/rashikashokeen/\n",
      "https://www.instagram.com/epic_memebaaz/\n",
      "https://www.instagram.com/1d.onedestination/\n",
      "https://www.instagram.com/hemamuthamakeupstudio/\n",
      "https://www.instagram.com/nivoriya/\n",
      "https://www.instagram.com/g.u.t.h.l.i/\n",
      "https://www.instagram.com/abdullateef.azmi/\n",
      "https://www.instagram.com/bennet1390/\n",
      "https://www.instagram.com/akashbanjara.fitnesscoach/\n",
      "https://www.instagram.com/tees5858/\n",
      "https://www.instagram.com/sselvaram/\n",
      "https://www.instagram.com/narrative.of.late.night.world/\n",
      "https://www.instagram.com/chinujodi/\n",
      "https://www.instagram.com/fashion_buzz_by_mehak09/\n",
      "https://www.instagram.com/aksgonewrong/\n",
      "https://www.instagram.com/nehal.delicioustreats/\n",
      "https://www.instagram.com/sareessansaar/\n",
      "https://www.instagram.com/sameer_s42/\n",
      "https://www.instagram.com/make_aravali_trip/\n",
      "https://www.instagram.com/ishes110/\n",
      "https://www.instagram.com/rajat_pugalia/\n",
      "https://www.instagram.com/achla.gulati/\n",
      "https://www.instagram.com/wordstoliveby90/\n",
      "https://www.instagram.com/priy8169/\n",
      "https://www.instagram.com/xplorershiva/\n",
      "https://www.instagram.com/suspensive2020/\n",
      "https://www.instagram.com/sameer.anand.12720/\n",
      "https://www.instagram.com/anjalikashyapofficial080993/\n",
      "https://www.instagram.com/vidishagoyal/\n",
      "https://www.instagram.com/rashi675822/\n",
      "https://www.instagram.com/artistic_craze/\n",
      "https://www.instagram.com/theculinarycuts/\n",
      "https://www.instagram.com/bhawana.tiwari/\n",
      "https://www.instagram.com/excerpts.from.my.diary/\n",
      "https://www.instagram.com/vats__jyoti/\n",
      "https://www.instagram.com/kinghasnainkhans/\n",
      "https://www.instagram.com/travelandfoodjournal/\n",
      "https://www.instagram.com/ideastree99/\n",
      "https://www.instagram.com/ap.4716/\n",
      "https://www.instagram.com/vipra_10.8/\n",
      "https://www.instagram.com/shrestha__jain/\n",
      "https://www.instagram.com/yami_ni2121/\n",
      "https://www.instagram.com/manoj.punj.146/\n",
      "https://www.instagram.com/shubhambhatia92/\n",
      "https://www.instagram.com/dil_bole_khana/\n",
      "https://www.instagram.com/chitrakoolwal/\n",
      "https://www.instagram.com/snowflake9.1/\n",
      "https://www.instagram.com/sayanbera5/\n",
      "https://www.instagram.com/jaatni_akhar/\n",
      "https://www.instagram.com/whatvaranasieats_/\n",
      "https://www.instagram.com/foodies_choices/\n",
      "https://www.instagram.com/miles_of_textiles/\n",
      "https://www.instagram.com/_harshitsaxena/\n",
      "https://www.instagram.com/ketan.arora01/\n",
      "https://www.instagram.com/thebogotrip/\n",
      "https://www.instagram.com/_that_rainbowgirl/\n",
      "https://www.instagram.com/_pankajrao/\n",
      "https://www.instagram.com/dolma_aunty_momos_afo/\n",
      "https://www.instagram.com/r11146901/\n",
      "https://www.instagram.com/billupasta/\n",
      "https://www.instagram.com/vishnu.ghoil/\n",
      "https://www.instagram.com/shrutiagarwal97/\n",
      "https://www.instagram.com/dreamview01/\n",
      "https://www.instagram.com/falodesign/\n",
      "https://www.instagram.com/aa19352/\n",
      "https://www.instagram.com/lalankumar5867/\n",
      "https://www.instagram.com/sundari.india/\n",
      "https://www.instagram.com/akhil199797/\n",
      "https://www.instagram.com/snacksjunctions/\n",
      "https://www.instagram.com/dil_bole_khaana_/\n",
      "https://www.instagram.com/anaisha1lil/\n",
      "https://www.instagram.com/buytandoors/\n",
      "https://www.instagram.com/ang_el1889/\n",
      "https://www.instagram.com/abhi_thakur_offecial/\n",
      "https://www.instagram.com/_shortnessoverload/\n",
      "https://www.instagram.com/mg7351111/\n",
      "https://www.instagram.com/siddhaarth.kashyap/\n",
      "https://www.instagram.com/sonu_offically/\n",
      "https://www.instagram.com/80.57105863/\n",
      "https://www.instagram.com/pria_jaiswal/\n",
      "https://www.instagram.com/techworldpost/\n",
      "https://www.instagram.com/pulkitkaurbasra/\n",
      "https://www.instagram.com/samayra9540/\n",
      "https://www.instagram.com/backpackerslove/\n",
      "https://www.instagram.com/instagiri1/\n",
      "https://www.instagram.com/dialogueloverss/\n",
      "https://www.instagram.com/gauravsaini896/\n",
      "https://www.instagram.com/ratatouille_homestyle/\n",
      "https://www.instagram.com/xxrahul16/\n",
      "https://www.instagram.com/gymfreaksbb/\n",
      "https://www.instagram.com/niyascm88/\n",
      "https://www.instagram.com/palwinder2356/\n",
      "https://www.instagram.com/extracheesepleej/\n",
      "https://www.instagram.com/rajbhau223/\n",
      "https://www.instagram.com/rj_creatives_/\n",
      "https://www.instagram.com/sandeep_rathor5080/\n",
      "https://www.instagram.com/anil_kumar_kotputli/\n",
      "https://www.instagram.com/p0int.blank.peri0d/\n",
      "https://www.instagram.com/__vivek__0005/\n",
      "https://www.instagram.com/pa.rmar7018/\n",
      "https://www.instagram.com/sharif_ladka_777/\n",
      "https://www.instagram.com/sa.hilkhan2619/\n",
      "https://www.instagram.com/divyatiwary116/\n",
      "https://www.instagram.com/vicky_jadoun1/\n",
      "https://www.instagram.com/mr.ankit464021/\n",
      "https://www.instagram.com/akashlagnu9091/\n",
      "https://www.instagram.com/krishnazipre/\n",
      "https://www.instagram.com/vishesh_singh_vs/\n",
      "https://www.instagram.com/mr_as_sharma6/\n",
      "https://www.instagram.com/swarni_suman/\n",
      "https://www.instagram.com/jivan2008/\n",
      "https://www.instagram.com/anakumar1692/\n",
      "https://www.instagram.com/umeshchaudhary00sni/\n",
      "https://www.instagram.com/uutvkbybcgnb/\n",
      "https://www.instagram.com/aksha.yahir682/\n",
      "https://www.instagram.com/aybuke.kahraman/\n",
      "https://www.instagram.com/samgill6195/\n",
      "https://www.instagram.com/porwal9484/\n",
      "https://www.instagram.com/trapper_sattu/\n",
      "https://www.instagram.com/vinodbairwa70/\n",
      "https://www.instagram.com/aawaraaaa__/\n",
      "https://www.instagram.com/kuldeepprajapat733/\n",
      "https://www.instagram.com/syintiaadinda/\n",
      "https://www.instagram.com/hussinadavath/\n",
      "https://www.instagram.com/duapriyanka/\n",
      "https://www.instagram.com/mani_ph0t0graphy/\n",
      "https://www.instagram.com/kasutijewels/\n",
      "https://www.instagram.com/sophia_reo/\n",
      "https://www.instagram.com/toypuppy_supplies/\n",
      "https://www.instagram.com/anaisha.kitchen/\n",
      "https://www.instagram.com/arun_vadakedath/\n",
      "https://www.instagram.com/akshaysatija91/\n",
      "https://www.instagram.com/januaokabhi/\n",
      "https://www.instagram.com/rubsonearth/\n",
      "https://www.instagram.com/ibadat9090/\n",
      "https://www.instagram.com/akash.9522/\n",
      "https://www.instagram.com/unravelled_soul/\n",
      "https://www.instagram.com/ssaddamhussein239/\n",
      "https://www.instagram.com/dilli.ncr/\n",
      "https://www.instagram.com/vezihr/\n",
      "https://www.instagram.com/almostandmaybe/\n",
      "https://www.instagram.com/radhikag2979/\n",
      "https://www.instagram.com/aarchasalim/\n",
      "https://www.instagram.com/windspoetry/\n",
      "https://www.instagram.com/pulaobykillo/\n",
      "https://www.instagram.com/saumya98500/\n",
      "https://www.instagram.com/muskanbiscuits/\n",
      "https://www.instagram.com/thereadinglamp.online/\n",
      "https://www.instagram.com/skf_routines/\n",
      "https://www.instagram.com/rawat.avisek/\n",
      "https://www.instagram.com/speakingherbs/\n",
      "https://www.instagram.com/utkarshm96/\n",
      "https://www.instagram.com/_altamish/\n",
      "https://www.instagram.com/the_sehrishism/\n",
      "https://www.instagram.com/nishi519/\n",
      "https://www.instagram.com/shedha__/\n",
      "https://www.instagram.com/wasteisprime/\n",
      "https://www.instagram.com/sam_asadkhan/\n",
      "https://www.instagram.com/clickktees/\n",
      "https://www.instagram.com/priyanka___2000/\n",
      "https://www.instagram.com/canyamanfans0/\n",
      "https://www.instagram.com/creating_buisness/\n",
      "https://www.instagram.com/alfagurrl/\n",
      "https://www.instagram.com/deyabhilash/\n",
      "https://www.instagram.com/xanjay1/\n",
      "https://www.instagram.com/shah17pooja/\n",
      "https://www.instagram.com/vertika.srivastav/\n",
      "https://www.instagram.com/pvtliberal/\n",
      "https://www.instagram.com/divyaanand1319/\n",
      "https://www.instagram.com/jonty_jd/\n",
      "https://www.instagram.com/krishnaagarwal_001/\n",
      "https://www.instagram.com/soulitudediaries/\n",
      "https://www.instagram.com/sagarpramanik523/\n",
      "https://www.instagram.com/its_mayank_rajput/\n",
      "https://www.instagram.com/plant._perfect/\n",
      "https://www.instagram.com/chandansahoo378/\n",
      "https://www.instagram.com/not.so.baniya/\n",
      "https://www.instagram.com/skar.phase/\n",
      "https://www.instagram.com/a.royalattitude/\n",
      "https://www.instagram.com/like_vani/\n",
      "https://www.instagram.com/1212jayesh/\n",
      "https://www.instagram.com/thebakerybhilwara/\n",
      "https://www.instagram.com/sonali.bhardwaj94/\n",
      "https://www.instagram.com/anonmyart/\n",
      "https://www.instagram.com/tanmaay__chowdhary/\n",
      "https://www.instagram.com/drunk_atheistic/\n",
      "https://www.instagram.com/geetika.vohra/\n",
      "https://www.instagram.com/noorboutique242/\n",
      "https://www.instagram.com/pyaar_beparwah/\n",
      "https://www.instagram.com/aloopatakha/\n",
      "https://www.instagram.com/paramveer9400/\n",
      "https://www.instagram.com/shutter_khor/\n",
      "https://www.instagram.com/turkishchickin/\n",
      "https://www.instagram.com/kashina_chadha/\n",
      "https://www.instagram.com/javedkhan9193/\n",
      "https://www.instagram.com/sanaul349/\n",
      "https://www.instagram.com/tanujsachdev/\n",
      "https://www.instagram.com/raju2.449/\n",
      "https://www.instagram.com/backspace__stories/\n",
      "https://www.instagram.com/surbhi50giri/\n",
      "https://www.instagram.com/viveksuparboy99/\n",
      "https://www.instagram.com/skinzest_drnoopur/\n",
      "https://www.instagram.com/rishabh_aggarwal24/\n",
      "https://www.instagram.com/_143_khan_420/\n",
      "https://www.instagram.com/rebuild75/\n",
      "https://www.instagram.com/m_i_s_h_u_02/\n",
      "https://www.instagram.com/logically_bakchod/\n",
      "https://www.instagram.com/agarwal___vaibhav/\n",
      "https://www.instagram.com/advanll/\n",
      "https://www.instagram.com/mallick.peacefulsoul/\n",
      "https://www.instagram.com/hussainsaab00/\n",
      "https://www.instagram.com/_shruti_2001/\n",
      "https://www.instagram.com/pic_battle_raound/\n",
      "https://www.instagram.com/madhublock/\n",
      "https://www.instagram.com/lizasue9/\n",
      "https://www.instagram.com/sabal_gupta/\n",
      "https://www.instagram.com/aijaz3314/\n",
      "https://www.instagram.com/naya.anjali/\n",
      "https://www.instagram.com/that__ukulele__girl/\n",
      "https://www.instagram.com/sniperking09/\n",
      "https://www.instagram.com/_tushaar_goyal_999/\n",
      "https://www.instagram.com/rehanasiddhiqui/\n",
      "https://www.instagram.com/royal_jatani_queen/\n",
      "https://www.instagram.com/dringbeland/\n",
      "https://www.instagram.com/kiranmehta354/\n",
      "https://www.instagram.com/samratlittel/\n",
      "https://www.instagram.com/__eternalpeace/\n",
      "https://www.instagram.com/rohitgupta25_/\n",
      "https://www.instagram.com/chinmaysanghi/\n",
      "https://www.instagram.com/dudharejiyarushiraj97/\n",
      "https://www.instagram.com/tummytruck2020/\n",
      "https://www.instagram.com/bittu_yogi_1794/\n",
      "https://www.instagram.com/chaudhary_preeti_rana/\n",
      "https://www.instagram.com/ourdreamsartography/\n",
      "https://www.instagram.com/nirmal_bhullar/\n",
      "https://www.instagram.com/brownbombaybrahmin/\n",
      "https://www.instagram.com/sivanshpandit/\n",
      "https://www.instagram.com/_._.ishaan._00/\n",
      "https://www.instagram.com/kaniika.pvt/\n",
      "https://www.instagram.com/_.prishita._/\n",
      "https://www.instagram.com/sanwarmal511/\n",
      "https://www.instagram.com/mikegleemo/\n",
      "https://www.instagram.com/makeitvspicy/\n",
      "https://www.instagram.com/ab_abishek____/\n",
      "https://www.instagram.com/mryashu94/\n",
      "https://www.instagram.com/prabhatsingh889/\n",
      "https://www.instagram.com/gehana_collections/\n",
      "https://www.instagram.com/nilofarkitchen0/\n",
      "https://www.instagram.com/lakshita261193/\n",
      "https://www.instagram.com/pranav.pv/\n",
      "https://www.instagram.com/blissful_._tales/\n",
      "https://www.instagram.com/kanika_s_23/\n",
      "https://www.instagram.com/varun_sharma9654/\n",
      "https://www.instagram.com/goluking148/\n",
      "https://www.instagram.com/poojasraasoiwithchefaddy/\n",
      "https://www.instagram.com/iamvishnu45/\n",
      "https://www.instagram.com/taste_junction/\n",
      "https://www.instagram.com/_dhanush_babu/\n",
      "https://www.instagram.com/itsokbepositive/\n",
      "https://www.instagram.com/yaduvendrasikarwar/\n",
      "https://www.instagram.com/khushali0811/\n",
      "https://www.instagram.com/sonumercy_official/\n",
      "https://www.instagram.com/_best_love_relationship/\n",
      "https://www.instagram.com/kamal4012061/\n",
      "https://www.instagram.com/ritu88225/\n",
      "https://www.instagram.com/_shriya.pvt_/\n",
      "https://www.instagram.com/citrus_lemon_zest/\n",
      "https://www.instagram.com/sarang_naini/\n",
      "https://www.instagram.com/top5foreverything/\n",
      "https://www.instagram.com/hardeepbhullar98/\n",
      "https://www.instagram.com/rewritethe_starz/\n",
      "https://www.instagram.com/minakshi_sharma1306/\n",
      "https://www.instagram.com/_nitesh_jha/\n",
      "https://www.instagram.com/desi_masterchef/\n",
      "https://www.instagram.com/naangkhamaibcchidtakn/\n",
      "https://www.instagram.com/foodiesupergirl/\n",
      "https://www.instagram.com/_moody.foody_/\n",
      "https://www.instagram.com/nexgen_snap/\n",
      "https://www.instagram.com/indianfood_travel_lifestyle/\n",
      "https://www.instagram.com/__cyril__._/\n",
      "https://www.instagram.com/vritii.x/\n",
      "https://www.instagram.com/__surroundings__/\n",
      "https://www.instagram.com/aahil___ch/\n",
      "https://www.instagram.com/high_on_drama_/\n",
      "https://www.instagram.com/indianfoodierasoi/\n",
      "https://www.instagram.com/jituajnar/\n",
      "https://www.instagram.com/parminderkaur2575/\n",
      "https://www.instagram.com/rajliwaldeepak932/\n",
      "https://www.instagram.com/biglover200/\n",
      "https://www.instagram.com/hotelgandharva/\n",
      "https://www.instagram.com/_nikki_tripathi_/\n",
      "https://www.instagram.com/devvashisht/\n",
      "https://www.instagram.com/bokboom304/\n",
      "https://www.instagram.com/fuck_your_ass_holes/\n",
      "https://www.instagram.com/hu_ng_ry_wolf_/\n",
      "https://www.instagram.com/first._love.__life/\n",
      "https://www.instagram.com/kritiii07/\n",
      "https://www.instagram.com/tanvi.praveen/\n",
      "https://www.instagram.com/pravesh_.yadav/\n",
      "https://www.instagram.com/mr_unknown_99_0/\n",
      "https://www.instagram.com/khanabdul1468/\n",
      "https://www.instagram.com/aashish_av/\n",
      "https://www.instagram.com/sugandha_kapoor/\n",
      "https://www.instagram.com/pragya2000/\n",
      "https://www.instagram.com/jamanong/\n",
      "https://www.instagram.com/wineandcheessee/\n",
      "https://www.instagram.com/dineshpatil992/\n",
      "https://www.instagram.com/chauhan_2747/\n",
      "https://www.instagram.com/debanjali.dasgupta/\n",
      "https://www.instagram.com/theglowrituals1/\n",
      "https://www.instagram.com/sauravdabas01/\n",
      "https://www.instagram.com/ananya.suri2020/\n",
      "https://www.instagram.com/theycallme_lightning/\n",
      "https://www.instagram.com/58semran/\n",
      "https://www.instagram.com/gulerias777/\n",
      "https://www.instagram.com/rahulbansal3748/\n",
      "https://www.instagram.com/_kalpana.negi/\n",
      "https://www.instagram.com/budhram6507/\n",
      "https://www.instagram.com/thesecretfuzziegirl0249/\n",
      "https://www.instagram.com/itspradyumnagrawal/\n",
      "https://www.instagram.com/mohitg15/\n",
      "https://www.instagram.com/mohd_touseef_ahmed/\n",
      "https://www.instagram.com/xdeadgirlinthepoolx/\n",
      "https://www.instagram.com/hungryyoungmanindia/\n",
      "https://www.instagram.com/rohit_singh1095/\n",
      "https://www.instagram.com/crispycrolly/\n",
      "https://www.instagram.com/khushbua6/\n",
      "https://www.instagram.com/sohil.raza.9659283/\n",
      "https://www.instagram.com/deedeepaints/\n",
      "https://www.instagram.com/prasshantt_07/\n",
      "https://www.instagram.com/xyz4567789dfg_56/\n",
      "https://www.instagram.com/bindu2727/\n",
      "https://www.instagram.com/quo.tequote/\n",
      "https://www.instagram.com/vankar2716/\n",
      "https://www.instagram.com/_inkedfables_/\n",
      "https://www.instagram.com/ma.yra7454/\n",
      "https://www.instagram.com/miyaunnnn/\n",
      "https://www.instagram.com/safarnama_freesouls/\n",
      "https://www.instagram.com/rajasthantourexpert/\n",
      "https://www.instagram.com/love_cheeku_13/\n",
      "https://www.instagram.com/blissful_bitesssss_backup/\n",
      "https://www.instagram.com/puneet_malik_/\n",
      "https://www.instagram.com/kishansingh4141/\n",
      "https://www.instagram.com/goyar_amit/\n",
      "https://www.instagram.com/dolly.sinha.3367/\n",
      "https://www.instagram.com/eldad_243/\n",
      "https://www.instagram.com/_2_miz_1_yerde_romantika_/\n",
      "https://www.instagram.com/thefoodwardrobe_/\n",
      "https://www.instagram.com/bavejavaibhav/\n",
      "https://www.instagram.com/licknail/\n",
      "https://www.instagram.com/vikrant14320gmail.com_/\n",
      "https://www.instagram.com/manoj.mahi.5055/\n",
      "https://www.instagram.com/currysum_vk/\n",
      "https://www.instagram.com/ruby.gautam_1234/\n",
      "https://www.instagram.com/jann__khuloodhmuztafaomer/\n",
      "https://www.instagram.com/rvkkkkkkkkkkk/\n",
      "https://www.instagram.com/megasmiledentalstudio/\n",
      "https://www.instagram.com/the3ammiracle/\n",
      "https://www.instagram.com/18_plus_non_veg/\n",
      "https://www.instagram.com/bhole_ki_nagri_kashii/\n",
      "https://www.instagram.com/ankiitantique/\n",
      "https://www.instagram.com/ridhiculous._/\n",
      "https://www.instagram.com/riyanshi_goel31/\n",
      "https://www.instagram.com/juniorjr7589/\n",
      "https://www.instagram.com/yugal_16/\n",
      "https://www.instagram.com/rajatbhallaofficial/\n",
      "https://www.instagram.com/umehoneygeneraltrading/\n",
      "https://www.instagram.com/sharmajikichotibeti/\n",
      "https://www.instagram.com/soja_bey/\n",
      "https://www.instagram.com/myletterfeels/\n",
      "https://www.instagram.com/lavishchandra/\n",
      "https://www.instagram.com/gurjap00/\n",
      "https://www.instagram.com/untoldwords98/\n",
      "https://www.instagram.com/aakanksha.ghai/\n",
      "https://www.instagram.com/__divyanshsingh__/\n",
      "https://www.instagram.com/sdhanuka/\n",
      "https://www.instagram.com/myhappiness_pvt/\n",
      "https://www.instagram.com/real_sanjay_thakur/\n",
      "https://www.instagram.com/rajatsarda/\n",
      "https://www.instagram.com/rabiya.bashri.165/\n",
      "https://www.instagram.com/sourabh8505/\n",
      "https://www.instagram.com/j_a_t_i_n__v/\n",
      "https://www.instagram.com/biswastattooz/\n",
      "https://www.instagram.com/aahwan7_/\n",
      "https://www.instagram.com/shipra_malhotra_/\n",
      "https://www.instagram.com/cooking__emotionally___/\n",
      "https://www.instagram.com/0x.cupid.x0/\n",
      "https://www.instagram.com/aggarwaldeeksha/\n",
      "https://www.instagram.com/l_unusual_l/\n",
      "https://www.instagram.com/love.quotes523/\n",
      "https://www.instagram.com/jigishapatel5598/\n",
      "https://www.instagram.com/alfaizgh/\n",
      "https://www.instagram.com/arora.megh/\n",
      "https://www.instagram.com/foreverr.glam/\n",
      "https://www.instagram.com/bong__the__bond/\n",
      "https://www.instagram.com/darshitatiwari/\n",
      "https://www.instagram.com/ashmeet_9/\n",
      "https://www.instagram.com/w0rd_addict_/\n",
      "https://www.instagram.com/vandanamenon15/\n",
      "https://www.instagram.com/hemwati_singh/\n",
      "https://www.instagram.com/coolbreeze180/\n",
      "https://www.instagram.com/ecom_abhishek1/\n",
      "https://www.instagram.com/__groovy_shadow__/\n",
      "https://www.instagram.com/judicial_services_dreamer/\n",
      "https://www.instagram.com/imran_rizvi_/\n",
      "https://www.instagram.com/ra_jput2093/\n",
      "https://www.instagram.com/punjabi._.trendsterz/\n",
      "https://www.instagram.com/__story_teller_of_heist/\n",
      "https://www.instagram.com/xstylokdevinhuerox/\n",
      "https://www.instagram.com/_____.meharrr._____/\n",
      "https://www.instagram.com/nakshatra_marketing/\n",
      "https://www.instagram.com/drvaryan036/\n",
      "https://www.instagram.com/clicks_n_colors/\n",
      "https://www.instagram.com/nitul2185/\n",
      "https://www.instagram.com/renimmortal/\n",
      "https://www.instagram.com/saifi.nauman/\n",
      "https://www.instagram.com/danish_zutshi/\n",
      "https://www.instagram.com/sparkle.in.words/\n",
      "https://www.instagram.com/riya_badlani2/\n",
      "https://www.instagram.com/rameshdas822/\n",
      "https://www.instagram.com/himanshudeepakzibbu/\n",
      "https://www.instagram.com/roniplayboy4/\n",
      "https://www.instagram.com/delhi.on.my.plate/\n",
      "https://www.instagram.com/akash_aggarwaal/\n",
      "https://www.instagram.com/hunt__er___0___4___0___5/\n",
      "https://www.instagram.com/thapa_gaurav/\n",
      "https://www.instagram.com/kawal_kps/\n",
      "https://www.instagram.com/237staymotivatedandinspired/\n",
      "https://www.instagram.com/rajoraharsh/\n",
      "https://www.instagram.com/p_nandwani15/\n",
      "https://www.instagram.com/__black__heart__123/\n",
      "https://www.instagram.com/avinash.paul.779857/\n",
      "https://www.instagram.com/arushimehta72/\n"
     ]
    }
   ],
   "source": [
    "# List of All Followers\n",
    "for i in followers:\n",
    "    print(i)"
   ]
  },
  {
   "cell_type": "markdown",
   "metadata": {},
   "source": [
    "### Checking the Story of a Profile"
   ]
  },
  {
   "cell_type": "code",
   "execution_count": 235,
   "metadata": {},
   "outputs": [],
   "source": [
    "# Visit the Profile\n",
    "Search_from_profile = driver.find_elements_by_tag_name('input')\n",
    "Search_from_profile[1].clear()\n",
    "Search_from_profile[1].send_keys('dilsefoodie')\n",
    "waiter=WebDriverWait(driver, 10).until(EC.presence_of_element_located((By.CLASS_NAME, \"yCE8d\")))\n",
    "driver.find_element_by_class_name('yCE8d').click()\n",
    "time.sleep(3)"
   ]
  },
  {
   "cell_type": "code",
   "execution_count": 231,
   "metadata": {},
   "outputs": [],
   "source": [
    "story = driver.find_element_by_class_name('_6q-tv')"
   ]
  },
  {
   "cell_type": "code",
   "execution_count": 232,
   "metadata": {},
   "outputs": [],
   "source": [
    "story.click()"
   ]
  },
  {
   "cell_type": "code",
   "execution_count": 239,
   "metadata": {},
   "outputs": [
    {
     "name": "stdout",
     "output_type": "stream",
     "text": [
      "Story Seen\n"
     ]
    }
   ],
   "source": [
    "try:\n",
    "    story = driver.find_element_by_xpath('//div[contains(@class,\"h5uC0\")]')\n",
    "    story_seen = driver.find_element_by_class_name('CfWVH').get_attribute('height')\n",
    "    if story_seen == '208':\n",
    "        print('Story already Seen!')\n",
    "    else:\n",
    "        story.click()\n",
    "        print(\"Story Seen\")\n",
    "except NoSuchElementException:\n",
    "    print(\"No Story!!\")"
   ]
  },
  {
   "cell_type": "markdown",
   "metadata": {},
   "source": [
    "## Part 2 : Web Scrapping"
   ]
  },
  {
   "cell_type": "code",
   "execution_count": 242,
   "metadata": {},
   "outputs": [],
   "source": [
    "driver.get('https://www.instagram.com/')"
   ]
  },
  {
   "cell_type": "markdown",
   "metadata": {},
   "source": [
    "### Scraping Top 10 Trending Usernames for a Specific Key"
   ]
  },
  {
   "cell_type": "code",
   "execution_count": 259,
   "metadata": {},
   "outputs": [],
   "source": [
    "# Typing the Name and waiting for list of Usernames\n",
    "Search_from_profile = driver.find_elements_by_tag_name('input')\n",
    "Search_from_profile[1].clear()\n",
    "Search_from_profile[1].send_keys('food')\n",
    "waiter=WebDriverWait(driver, 10).until(EC.presence_of_element_located((By.CLASS_NAME, \"yCE8d\")))"
   ]
  },
  {
   "cell_type": "code",
   "execution_count": 260,
   "metadata": {},
   "outputs": [],
   "source": [
    "count = 0\n",
    "trending_users = []\n",
    "l = driver.find_elements_by_xpath('//span[@class=\"Ap253\"]')\n",
    "for i in l:\n",
    "    user_n = i.get_attribute('innerHTML')\n",
    "    if user_n[0]!='#' and count<10:\n",
    "        trending_users.append(user_n)\n",
    "        count = count + 1"
   ]
  },
  {
   "cell_type": "code",
   "execution_count": 263,
   "metadata": {},
   "outputs": [
    {
     "name": "stdout",
     "output_type": "stream",
     "text": [
      "['foodiesince96', 'foodnetwork', 'foodgod', 'mouthwatering.dishes', 'ndtv_food', 'foodelhi', 'food', 'thisisdelhi', 'gajabfood', 'foodtalkindia']\n"
     ]
    }
   ],
   "source": [
    "print(trending_users)"
   ]
  },
  {
   "cell_type": "code",
   "execution_count": 262,
   "metadata": {},
   "outputs": [],
   "source": [
    "# Switch Focus from Search Bar to Main Page\n",
    "driver.find_element_by_xpath('//div[contains(@class, \"coreSpriteSearchClear\")]').click()"
   ]
  },
  {
   "cell_type": "markdown",
   "metadata": {},
   "source": [
    "### Getting 5 Users with most Followers among 10"
   ]
  },
  {
   "cell_type": "code",
   "execution_count": 300,
   "metadata": {},
   "outputs": [],
   "source": [
    "followers_of_trending_users_count = []\n",
    "for user in trending_users:\n",
    "    Search_from_profile = driver.find_elements_by_tag_name('input')\n",
    "    Search_from_profile[1].clear()\n",
    "    Search_from_profile[1].send_keys(user)\n",
    "    waiter=WebDriverWait(driver, 10).until(EC.presence_of_element_located((By.CLASS_NAME, \"yCE8d\")))\n",
    "    driver.find_element_by_class_name('yCE8d').click()\n",
    "    WebDriverWait(driver, 10).until(EC.presence_of_element_located((By.XPATH, '//a[@class=\"-nal3 \"]/span[@class=\"g47SY \"]')))\n",
    "    number_of_followers = driver.find_elements_by_class_name('g47SY')[1].get_attribute('title')\n",
    "    number_of_followers = int(number_of_followers.replace(',',''))\n",
    "    followers_of_trending_users_count.append(number_of_followers)\n",
    "    time.sleep(3)"
   ]
  },
  {
   "cell_type": "code",
   "execution_count": 303,
   "metadata": {},
   "outputs": [
    {
     "name": "stdout",
     "output_type": "stream",
     "text": [
      "['foodiesince96', 'foodnetwork', 'foodgod', 'mouthwatering.dishes', 'ndtv_food', 'foodelhi', 'food', 'thisisdelhi', 'gajabfood', 'foodtalkindia']\n",
      "[252885, 10344342, 3583578, 18235, 59691, 105879, 252885, 163783, 154066, 298610]\n"
     ]
    }
   ],
   "source": [
    "print(trending_users)\n",
    "print(followers_of_trending_users_count)"
   ]
  },
  {
   "cell_type": "code",
   "execution_count": 304,
   "metadata": {},
   "outputs": [],
   "source": [
    "trending_users = np.array(trending_users)\n",
    "followers_of_trending_users_count = np.array(followers_of_trending_users_count,dtype='int')\n",
    "trending_users=trending_users[np.argsort(followers_of_trending_users_count)][::-1]\n",
    "followers_of_trending_users_count=followers_of_trending_users_count[np.argsort(followers_of_trending_users_count)][::-1]"
   ]
  },
  {
   "cell_type": "code",
   "execution_count": 319,
   "metadata": {},
   "outputs": [
    {
     "name": "stdout",
     "output_type": "stream",
     "text": [
      "['foodnetwork', 'foodgod', 'foodtalkindia', 'thisisdelhi', 'foodiesince96']\n"
     ]
    }
   ],
   "source": [
    "new_trending_5 = []\n",
    "for i in range(5):\n",
    "    new_trending_5.append(trending_users[i])\n",
    "new_trending_5[3] = \"thisisdelhi\"\n",
    "print(new_trending_5)"
   ]
  },
  {
   "cell_type": "markdown",
   "metadata": {},
   "source": [
    "### Number of Posts in Past 3 Days by a User"
   ]
  },
  {
   "cell_type": "code",
   "execution_count": 320,
   "metadata": {},
   "outputs": [
    {
     "name": "stdout",
     "output_type": "stream",
     "text": [
      "foodnetwork  has done  33  Posts in Past 3 Days...!!\n",
      "foodgod  has done  1  Posts in Past 3 Days...!!\n",
      "foodtalkindia  has done  5  Posts in Past 3 Days...!!\n",
      "thisisdelhi  has done  5  Posts in Past 3 Days...!!\n",
      "foodiesince96  has done  11  Posts in Past 3 Days...!!\n"
     ]
    }
   ],
   "source": [
    "number_of_posts = []\n",
    "for user in new_trending_5:\n",
    "    print(user,end=\" \")\n",
    "    Search_from_profile = driver.find_elements_by_tag_name('input')\n",
    "    Search_from_profile[1].clear()\n",
    "    Search_from_profile[1].send_keys(user)\n",
    "    WebDriverWait(driver, 10).until(EC.presence_of_element_located((By.CLASS_NAME, \"yCE8d\")))\n",
    "    driver.find_element_by_class_name('yCE8d').click()\n",
    "    WebDriverWait(driver, 10).until(EC.presence_of_element_located((By.XPATH, '//div[@class=\"_9AhH0\"]')))\n",
    "    time.sleep(1)\n",
    "    count = 0\n",
    "    # Going to Each Image\n",
    "    for image in driver.find_elements_by_xpath('//div[@class=\"_9AhH0\"]'):\n",
    "        image.click()\n",
    "        WebDriverWait(driver, 10).until(EC.presence_of_element_located((By.XPATH, '//time[contains(@class, \"Nzb55\")]')))\n",
    "        time_string=driver.find_element_by_xpath('//time[contains(@class, \"Nzb55\")]').get_attribute('innerHTML')\n",
    "        if time_string[-1] in ['h','s']:    # We get Format 6w or 2h or 3d \n",
    "            count = count + 1\n",
    "        elif time_string[-1]=='d' and int(time_string[:-1])<=3:\n",
    "            count = count + 1\n",
    "        else:\n",
    "            post_close = driver.find_element_by_xpath('//div[contains(@class,\"_2dDPU\")]/div[3]')\n",
    "            post_close.click()\n",
    "            break\n",
    "        post_close = driver.find_element_by_xpath('//div[contains(@class,\"_2dDPU\")]/div[3]')\n",
    "        post_close.click()\n",
    "        time.sleep(2)\n",
    "    print(\" has done \" ,count, \" Posts in Past 3 Days...!!\")\n",
    "    number_of_posts.append(count)\n",
    "    time.sleep(1.5)"
   ]
  },
  {
   "cell_type": "markdown",
   "metadata": {},
   "source": [
    "### Plotting Graphs"
   ]
  },
  {
   "cell_type": "code",
   "execution_count": 331,
   "metadata": {},
   "outputs": [
    {
     "data": {
      "text/plain": [
       "<Figure size 432x288 with 0 Axes>"
      ]
     },
     "metadata": {},
     "output_type": "display_data"
    },
    {
     "data": {
      "image/png": "[encoded data removed]",
      "text/plain": [
       "<Figure size 720x504 with 1 Axes>"
      ]
     },
     "metadata": {
      "needs_background": "dark"
     },
     "output_type": "display_data"
    }
   ],
   "source": [
    "# Plotting a Graph between Top 10 Trending Users and their Follower Counts\n",
    "plt.subplots(0, 0)\n",
    "plt.figure(figsize=(10, 7))\n",
    "plt.bar(trending_users, followers_of_trending_users_count, color='rbycg')\n",
    "plt.xticks(rotation=45, size=12,color=\"white\")\n",
    "plt.yticks(size=12,color=\"white\")\n",
    "plt.title('Users versus numberof followers', size=12,color=\"white\")\n",
    "plt.xlabel('Users-->', size=12,color=\"white\")\n",
    "plt.ylabel('Followers-->', size=12,color=\"white\")\n",
    "plt.grid()\n",
    "plt.show()"
   ]
  },
  {
   "cell_type": "code",
   "execution_count": 332,
   "metadata": {},
   "outputs": [
    {
     "data": {
      "text/plain": [
       "<Figure size 432x288 with 0 Axes>"
      ]
     },
     "metadata": {},
     "output_type": "display_data"
    },
    {
     "data": {
      "image/png": "[encoded data removed]",
      "text/plain": [
       "<Figure size 720x504 with 1 Axes>"
      ]
     },
     "metadata": {
      "needs_background": "dark"
     },
     "output_type": "display_data"
    }
   ],
   "source": [
    "#Graph Between Top 5 among those and Their Instagram Activity\n",
    "plt.subplots(0, 1)\n",
    "plt.figure(figsize=(10, 7))\n",
    "plt.bar(new_trending_5, number_of_posts, color='rbycg')\n",
    "plt.xticks(rotation=45, size=12,color=\"white\")\n",
    "plt.yticks(size=12,color=\"white\")\n",
    "plt.title('Users versus number of posts', size=12,color=\"white\")\n",
    "plt.xlabel('Users-->', size=12, color=\"white\")\n",
    "plt.ylabel('Posts--->', size=12, color=\"white\")\n",
    "plt.grid()\n",
    "plt.show()"
   ]
  },
  {
   "cell_type": "markdown",
   "metadata": {},
   "source": [
    "### Scrap Content of First 10 Posts of Each User"
   ]
  },
  {
   "cell_type": "code",
   "execution_count": 333,
   "metadata": {},
   "outputs": [],
   "source": [
    "driver.get('https://www.instagram.com/')"
   ]
  },
  {
   "cell_type": "code",
   "execution_count": 338,
   "metadata": {},
   "outputs": [],
   "source": [
    "Captions = []\n",
    "Hashtags = []\n",
    "for user in new_trending_5:\n",
    "    time.sleep(3)\n",
    "    Search_from_profile = driver.find_elements_by_tag_name('input')\n",
    "    Search_from_profile[1].clear()\n",
    "    Search_from_profile[1].send_keys(user)\n",
    "    WebDriverWait(driver, 10).until(EC.presence_of_element_located((By.CLASS_NAME, \"yCE8d\")))\n",
    "    driver.find_element_by_class_name('yCE8d').click()\n",
    "    WebDriverWait(driver, 10).until(EC.presence_of_element_located((By.XPATH, '//div[@class=\"_9AhH0\"]')))\n",
    "    time.sleep(1)\n",
    "    count = 0\n",
    "    for image in driver.find_elements_by_xpath('//div[@class=\"_9AhH0\"]'):\n",
    "        image.click()\n",
    "        WebDriverWait(driver, 10).until(EC.presence_of_element_located((By.XPATH, '//div[contains(@class, \"C4VMK\")]')))\n",
    "        Captions.append(driver.find_element_by_xpath('//div[contains(@class, \"C4VMK\")]/span').get_attribute('textContent'))\n",
    "        for Hash in driver.find_elements_by_xpath('//div[contains(@class, \"C4VMK\")]/span/a'):\n",
    "            Hashtags.append(Hash.get_attribute('innerHTML'))\n",
    "        count = count + 1\n",
    "        if count>=10:\n",
    "            post_close = driver.find_element_by_xpath('//div[contains(@class,\"_2dDPU\")]/div[3]')\n",
    "            post_close.click()\n",
    "            break\n",
    "        post_close = driver.find_element_by_xpath('//div[contains(@class,\"_2dDPU\")]/div[3]')\n",
    "        post_close.click()\n",
    "        time.sleep(1)"
   ]
  },
  {
   "cell_type": "code",
   "execution_count": 339,
   "metadata": {},
   "outputs": [
    {
     "name": "stdout",
     "output_type": "stream",
     "text": [
      "Happy Birthday, @altonbrown 🎉We hope you're celebrating with a BIG batch of your famous baby back ribs 😋Save the recipe for Who Loves Ya Baby Back Ribs on your @FoodNetworkKitchen app!\n",
      "-------------------------------------------------------------------------------------------------------------\n",
      "Class of the Day: Geometric Fruit Tart 🥭 This beautiful no-bake fruit tart will make you look like a professional pastry chef!⁠. . .⁠Click the link in our bio to learn how to artfully slice mango, kiwi and more with @BakedbyDan's class on the @FoodNetworkKitchen app.\n",
      "-------------------------------------------------------------------------------------------------------------\n",
      "Break out the fennel! CONGRATS to @AmySchumer and chef Chris for their #Emmys nomination for Outstanding Unstructured Reality Program. #AmySchumerLearnsToCook\n",
      "-------------------------------------------------------------------------------------------------------------\n",
      "Get your grill ready! 🔥Tomorrow, @jettila will be making Grilled Harissa Chicken Breasts with Herbed Couscous LIVE on the @foodnetworkkitchen app at 8|7c. Click the link in our bio to download the app and set your reminders!\n",
      "-------------------------------------------------------------------------------------------------------------\n",
      "There's no doubt about it. #RestaurantImpossible: Back in Business is going to look a little different than what you're used to seeing. A small crew, social-distance measures and so. many. masks. 😷😷 But this just proves that @ChefIrvine is needed now more than ever. See what he and his team can do to help RI family members, Thursdays at 9|8c.\n",
      "-------------------------------------------------------------------------------------------------------------\n",
      "It's time to take your avocado toast to the next level. @ronniecwoo will teach you how to do just that by topping it with a perfectly fried egg and super crispy garlic and chile! Take his class today on your @FoodNetworkKitchen app by clicking the link in our bio.\n",
      "-------------------------------------------------------------------------------------------------------------\n",
      "How to Make Crispy Potato Skin ScoopsBest bite of the day/week/year: Crispy potato skins filled with cheesy potato filling 🤤💯Save the recipe on your @FoodNetworkKitchen app!\n",
      "-------------------------------------------------------------------------------------------------------------\n",
      "Tiger Slice-and-Bake Cookies 🧡🖤We’re WILD about these tiger cookies 🐅🧡 Have you ever seen something so cute?!Don’t let tigers disappear on your watch! Learn how to join Project CAT for Tiger Day: projectcat.discovery.com!Save the recipe for Tiger Slice-and-Bake Cookies on your @FoodNetworkKitchen app.\n",
      "-------------------------------------------------------------------------------------------------------------\n",
      "Recipe of the Day: @SunnyAnderson's Baked Zucchini 🍽 Click the link in our bio to save the recipe on your @foodnetworkkitchen app!\n",
      "-------------------------------------------------------------------------------------------------------------\n",
      "@carlaphall has the PERFECT fix for making sure your dough doesn't absorb too much flour when you are rolling it out 😲⁠⁠Click the link in our bio to take Carla's full Southern-Style Baking course on the @foodnetworkkitchen app!\n",
      "-------------------------------------------------------------------------------------------------------------\n",
      "First place you will go when we can travel again??\n",
      "-------------------------------------------------------------------------------------------------------------\n",
      "Starbucks who?? This is an ICED coffee!!! ⁣⁣⁣⁣⁣📹 tiktok/useraeibzddfxp\n",
      "-------------------------------------------------------------------------------------------------------------\n",
      "Eat or pass???? ⁣🍿⁣⁣📹 Kwai/Dq886999⁣\n",
      "-------------------------------------------------------------------------------------------------------------\n",
      "Even Foodgod won’t try this!! Would you???⁣⁣⁣📹 Kwai/xiong881661\n",
      "-------------------------------------------------------------------------------------------------------------\n",
      "Would you eat it?? Tag a friend to gross them out!!!⁣ Also it’s already dead.. The sodium and potassium in the soy sauce causes it to move⁣⁣📹 @silliecyn\n",
      "-------------------------------------------------------------------------------------------------------------\n",
      "BIG SURPRISE!!\n",
      "-------------------------------------------------------------------------------------------------------------\n",
      "Are you trying Ice Jelly with me or NOT???⁣⁣⁣📹 @kuliner_lampung\n",
      "-------------------------------------------------------------------------------------------------------------\n",
      "@EnjoyNoshMates new Watermelon 🍉 Fruit Jerkyis the greatest thing since sliced bread 😍Go grab your own now at @Costco  #NoshMatespartner #Costco\n",
      "-------------------------------------------------------------------------------------------------------------\n",
      "Can you guess what it is??⁣⁣⁣⁣⁣📹 Kwai/ddtv1111\n",
      "-------------------------------------------------------------------------------------------------------------\n",
      "Giving away gift cards to your favorite restaurants 🍕 🍔 🍜 ... 🎰 Here’s your chance to win 👉🏻 My new game is now available to download (link in my bio) It’s free to play and free to download!! @celebrityslotsofficial #CelebritySlotsPartner #CelebritySlots ⁣#🎰📲\n",
      "-------------------------------------------------------------------------------------------------------------\n",
      "Happy Cheesecake Day! 😍Creamy, tangy, and decadent, cheesecake is a timeless dessert that we can never get enough of. This cheesecake day we’ve got @chefjayraj ‘s no-bake dark chocolate cheesecake recipe: For the base: Crush/grind 15 Oreo biscuits and mix them with 2 tbsp melted salted butter. Spread this mixture out at the bottom of the mould evenly and freeze for 20 mins.Dark Chocolate Mousse:Whip 200 ml fresh cream until it forms soft peaks. Fold in 100 gm of melted dark chocolate and 1 tbsp powdered sugar into this. Set it in the fridge for 30-40 minutes.Cheesecake Mixture: Combine the following ingredients in a bowl:Hung Curd - 250 gmMelted Dark Chocolate - 120 gmMelted Milk Chocolate - 50 gmCocoa Powder - 2 tbspSweetened Condensed Milk - 2 tbspCombine the cheesecake mix ingredients and pour over the base. Take a large vessel and fill it with 2 cups of water and let it simmer for 3-4 mins. Lower the flame. Keep a steel tray inside the vessel for the cheesecake container to be kept on. Steam the cake for about 40-45 mins until fully cooked. Use a toothpick to check. Cool it down and rest it in the fridge for about 3-4 hours.Top it up with the dark chocolate mousse and fresh, gorgeous cherries!🍒\n",
      "-------------------------------------------------------------------------------------------------------------\n",
      "Happy Lasagna Day! 🤤🤩Tomato sauce, cheeses, meat and vegetables - all separated by wide flat noodles - what’s not to love, right? Since you can’t really get a table at your favorite Italian restaurant this time, why not preheat your oven and make your own lasagna. Here’s an interesting new take on our all-time favourite dish! Video Credits: @delish\n",
      "-------------------------------------------------------------------------------------------------------------\n",
      "#NewInTown Introducing @rad.baker , a brand that will satisfy all your sweet cravings!From dark chocolate ganache tarts with sea salt to cookies monster tubs and mud-cakes, their 'All Chocolate Menu' is to die for. Indulge in the deliciousness of these goodies and you won’t be disappointed. .Keeping all sanitisation and hygiene checks in mind, the focus is purely to take you back to basics- flavour, quality, texture and will leave you wanting for more!.Contact- 9625068008Pick up from Gurgaon & delivery available all over Delhi NCR, with delivery charges applicable as per location.\n",
      "-------------------------------------------------------------------------------------------------------------\n",
      "Your generosity makes a difference. With the global pandemic, hunger has been playing out and affecting millions. Would you join us in this fight?Join @rha_india’s Mission 30 Million and help us leave hunger in the dust!You can buy ration from Grofers/Amazon Pantry or get it directly delivered to the mentioned address: 21/3A, BSNL Quarters, Kalibari Marg, Connaught Place, New Delhi-110001.Contact: Rahul Kaushal (+91 9990640011)\n",
      "-------------------------------------------------------------------------------------------------------------\n",
      "#TalkDrink There’s another chapter all set to be a part of India’s moment with gin- here’s GinGin, India’s first ‘hemp craft gin’. Curious, aren’t we?Made in Goa, @ginginwala is a potion made up of 9 botanicals, namely Himalayan junipers, coriander, lavender, rosemary, caraway seeds, cinnamon, lemongrass, butterfly pea flower and hemp {yup, we know what made your eyebrows peak, but it’s going to be a perfectly legal stir in your glass!}. 🌱🍋🍸This one makes for a lovely companion in a G&T and Negroni. Hitting the shelves in Goa and Delhi very soon, and we can’t wait to get our hands on it- would you try it?Head to @ginexplorersclub for everything Gin!\n",
      "-------------------------------------------------------------------------------------------------------------\n",
      "Nestled among the lofty Himalayas, where the Beas incessantly sings her beautiful song, lies the magical estate @aramgarhorchards The estate boasts of many exotic fruits like cherries, nectarines, mariposa plums, frontier plums, kiwi, apricots, peaches, and persimmon alongside famed apples and pomegranates, that are all handpicked once attained full maturity on the treesAnd guess what? They are delivering these sumptuous harvest fresh fruit of the season from the orchards in the Himalayas to Delhi and Gurgaon! Head to their handle and book your fruit boxes now!\n",
      "-------------------------------------------------------------------------------------------------------------\n",
      "Happy Tequila Day! We are celebrating our love of this famous Mexican spirit by sippin on these absolutely yummm spicy mango margaritas! It’s the just-right balance between sweet and spicy to pair with chips and guac, tacos, or some sunshine! PS: The only way to do the rim for these babies is some kosher salt and chilli powder – an additional kick and pop for you. Video credits: @forkinthekitchen\n",
      "-------------------------------------------------------------------------------------------------------------\n",
      "Join us in the fight against hunger!  ",
      "What is @rha_india Mission 30 Million? It’s simple- it’s all about what you can give back. 🍚🍲🍅🥬🍴You can buy ration from Grofers/Amazon Pantry or get it directly delivered to the mentioned address: 21/3A, BSNL Quarters, Kalibari Marg, Connaught Place, New Delhi-110001.Contact: Rahul Kaushal (+91 9990640011)\n",
      "-------------------------------------------------------------------------------------------------------------\n",
      "Stir Fry Vegetables in a sweet and spicy peanut sauceStir Fry Vegetables in a Sweet and Spicy Peanut SauceIn the kitchen with @ketoliciousmeals For the sauce- I cup unsweetened peanut butter 3 tablespoon soy sauce 3 tablespoon red Thai curry paste 2 tablespoon apple cider vinegar Stevia to taste - about 2 micro spoons Chilli sauce - 2 tbsp or to taste  2 tbsp water. Blend all of the above together. Add water to achieve your desired consistency. *You can make the stir fry in a thick sauce or thin it out to be more like a soup. For stir fry - Total 2 cups Veggies of your choice Broccoli for Veg protein or chicken/ prawns - 1 cup Spring onion white portion - 1/2 cup Spring onion green portion - 1/2 cup Minced Garlic - 2 tbsp Grated ginger - 1 tbsp Toasted white sesame seeds - 2 tbspOlive oil - 2 - 3 tbsp How to make- Heat Olive Oil in a wok or frying pan. Add garlic and ginger and sauté for 30 seconds. Add white part of the spring onions and sauté for a couple of minutes. *If using Chicken, add at this point and sauté till half done.  Add all the vegetables and sauté for 3-4 minutes. *If using prawns then add at this point after sauté wing the veggies till half done. Add Peanut Sauce. Sauté on medium flame for about 8-10 mins. Add green part of spring onions and toasted sesame seeds. Sauté further for a minute. And you’re ready to eat :)\n",
      "-------------------------------------------------------------------------------------------------------------\n",
      "In the mood for authentic Mughlai or Hyderabadi Biryani or some yumm Rogan Josh, @biryanigiri got you covered! Bring only the best and the most eclectic culinary experience to your plate and fresh ingredients ensuring each dish remains true to its regional origins Call at 9868410287 to order, delivering across selected locations in Delhi, Noida and Ghaziabad. Take-away available as well.\n",
      "-------------------------------------------------------------------------------------------------------------\n",
      "As a kid Macaroni was my favourite thing for lunch at school 😍What was yours?SNAPCHAT:Pragyaaa18👻Follow @thisisdelhiFollow @thisisdelhiFollow @thisisdelhi #thisisdelhi #foodforlife  #macaroni #sweets  #tasty #yummyintummy  #video  #foodforlife #foodphotography #likeforlike #streetfood #snacks #yum #spicy #satisfying #satisfyingvideos #mumbaifoodblogger  #grub #mumbai #delhifoodblogger  #f52grams #delhincr #breakfast #homemade #dessert #india #indian #indianfood\n",
      "-------------------------------------------------------------------------------------------------------------\n",
      "I am a better potato that this potato twister rn.TAG SOMEONE WHO IS LAZY AF..From : for gods cake, gtb nagar, delhi.SNAPCHAT:Pragyaaa18👻Follow @thisisdelhiFollow @thisisdelhiFollow @thisisdelhi #thisisdelhi #foodforlife  #potato #potatotwister  #tasty #yummyintummy  #video  #foodforlife #foodphotography #likeforlike #streetfood #snacks #yum #spicy #satisfying #satisfyingvideos #mumbaifoodblogger  #grub #mumbai #delhifoodblogger  #f52grams #delhincr #breakfast #homemade #lazy #india #indian #indianfood\n",
      "-------------------------------------------------------------------------------------------------------------\n",
      "SWIPE RIGHT TO SEE WHAT YOU ARE MISSING! 😂😂😂😂Tag a meme lover!.This is legit my favourite picture of all time and my favourite place  too..From: @_bake_n_shake_ , chandni mehal, old delhi..SNAPCHAT:Pragyaaa18Follow @thisisdelhiFollow @thisisdelhiFollow @thisisdelhi #DilliFoodJunkie #thisisdelhi #foodforlife  #pizza #chicken #garlicbread  #tasty #yummyintummy  #video  #foodforlife #foodphotography #likeforlike #streetfood #snacks #yum #spicy #satisfying #satisfyingvideos #mumbaifoodblogger  #grub #mumbai #delhifoodblogger  #f52grams #delhincr #breakfast #homemade #bakenshake #india #indian #indianfood #olddelhi\n",
      "-------------------------------------------------------------------------------------------------------------\n",
      "Kya apko bhi chole bhature hypnotise karte hai?TAG A FRIEND WHO OS CRAZY ABOUT THEM!SNAPCHAT:Pragyaaa18👻Location: sona sweets, nehru place, delhi.Rating: 4.2/5Follow @thisisdelhiFollow @thisisdelhiFollow @thisisdelhi #thisisdelhi #foodforlife  #cholebhature #sweets  #tasty #yummyintummy  #video  #foodforlife #foodphotography #likeforlike #streetfood #snacks #yum #spicy #satisfying #satisfyingvideos #mumbaifoodblogger  #grub #mumbai #delhifoodblogger  #f52grams #delhincr #breakfast #homemade #dessert #india #indian #indianfood\n",
      "-------------------------------------------------------------------------------------------------------------\n",
      "Amritsari Paneer kulcha with chole and pyaaz ki chutney 😍TAG SOMEONE JISKA YE FAVOURITE HAI!SNAPCHAT:Pragyaaa18👻Follow @thisisdelhiFollow @thisisdelhiFollow @thisisdelhi #thisisdelhi #foodforlife  #amritsari #cholekulche  #tasty #yummyintummy  #video  #foodforlife #foodphotography #likeforlike #streetfood #snacks #yum #spicy #satisfying #satisfyingvideos #mumbaifoodblogger  #grub #mumbai #delhifoodblogger  #f52grams #delhincr #breakfast #homemade #chole #kulche #india #indian #indianfood\n",
      "-------------------------------------------------------------------------------------------------------------\n",
      "Kitkat, gems qnd chocolate glazed donuts 🍩 WHICH ONE WOULD YOU PICK?If it were me I would’ve snatched the whole plate 😂.SNAPCHAT:Pragyaaa18👻Follow @thisisdelhiFollow @thisisdelhiFollow @thisisdelhi #thisisdelhi #foodforlife  #donuts #kitkat #gems #mnm #chocolate  #tasty #yummyintummy  #video  #foodforlife #foodphotography #likeforlike #streetfood #snacks #yum #spicy #satisfying #satisfyingvideos #mumbaifoodblogger  #grub #mumbai #delhifoodblogger  #f52grams #delhincr #breakfast #homemade #dessert #india #indian #indianfood\n",
      "-------------------------------------------------------------------------------------------------------------\n",
      "TAG A SOUTH INDIAN FOOD LOVER!I had this massive South indian thaal at juggernaut and i am totally in love with this place!.It had: Appam, appalam, Chettinad curry, Poriyal, Kulambu, Kootu, Rasam, Sambhar, Rice, Banana Chips, Podi powder, Buttermilk, and GulabjamunSNAPCHAT:Pragyaaa18👻 . Follow thisisdelhi Follow @thisisdelhi Follow @thisisdelhi #DilliFoodJunkie #thisisdelhi #foodforlife  #mithai #sweets  #tasty #yummyintummy  #video  #foodforlife #foodphotography #likeforlike #streetfood #snacks #yum #spicy #satisfying #satisfyingvideos #mumbaifoodblogger  #grub #mumbai #delhifoodblogger  #f52grams #delhincr #breakfast #homemade #dessert #india #indian #indianfood\n",
      "-------------------------------------------------------------------------------------------------------------\n",
      "Prepared some restaurant style paneer tikka 😍SNAPCHAT:Pragyaaa18👻Follow @thisisdelhiFollow @thisisdelhiFollow @thisisdelhi #thisisdelhi #foodforlife  #paneertikka #paneer  #tasty #yummyintummy  #video  #foodforlife #foodphotography #likeforlike #streetfood #snacks #yum #spicy #satisfying #satisfyingvideos #mumbaifoodblogger  #grub #mumbai #delhifoodblogger  #f52grams #delhincr #breakfast #homemade #tikka #cottagecheese #india #indian #indianfood\n",
      "-------------------------------------------------------------------------------------------------------------\n",
      "🥟 TAG A FRIEND WHO LOVES MOMOS!SNAPCHAT:Pragyaaa18👻Follow @thisisdelhiFollow @thisisdelhiFollow @thisisdelhi #thisisdelhi #foodforlife  #momo #himalayan  #tasty #yummyintummy  #video  #foodforlife #foodphotography #likeforlike #streetfood #snacks #yum #spicy #satisfying #satisfyingvideos #mumbaifoodblogger  #grub #mumbai #delhifoodblogger  #f52grams #delhincr #breakfast #homemade #spicy #india #indian #indianfood\n",
      "-------------------------------------------------------------------------------------------------------------\n",
      "Hello friends lasagna kha lo!TAG A FRIEND WHO IS CRAZY ABOUT CHEESE! 🧀 SNAPCHAT:Pragyaaa18👻Follow @thisisdelhiFollow @thisisdelhiFollow @thisisdelhi #thisisdelhi #foodforlife  #lasagna #pasta  #tasty #yummyintummy  #video  #foodforlife #foodphotography #likeforlike #streetfood #snacks #yum #spicy #satisfying #satisfyingvideos #mumbaifoodblogger  #grub #mumbai #delhifoodblogger  #f52grams #delhincr #breakfast #homemade #cheese #india #indian #indianfood\n",
      "-------------------------------------------------------------------------------------------------------------\n",
      "NOODLE BURGER.#Foodtalkindia #delicious #delhigram #feedfeed #buzzfeast #recipe #mumbaifoodie #mumbaifood  #ilovefood #instafood #nomnom #hungry #foodstagram #eeeeeats #foodblogger #delhifoodie #foodoftheday #foodgasm #delhi_igers #foodiesince96 #burger #noodleburger #burger #recipe #noodles #burgersandfries ...Follow @foodiesince96 💫💫 for more delicious updatesYouTube - Mehak Dhawan Snapchat - Foodiesince96\n",
      "-------------------------------------------------------------------------------------------------------------\n",
      "Before I forget using chopsticks I think I should visit YUM YUM CHA 💛.#Foodtalkindia #delicious #delhigram #feedfeed #buzzfeast #recipe #mumbaifoodie #mumbaifood  #ilovefood #instafood #nomnom #hungry #foodstagram #eeeeeats #foodblogger #delhifoodie #foodoftheday #foodgasm #delhi_igers #foodiesince96 #sushi #sushilover #sushitime🍣 ...Follow @foodiesince96 💫💫 for more delicious updatesYouTube - Mehak Dhawan Snapchat - Foodiesince96\n",
      "-------------------------------------------------------------------------------------------------------------\n",
      "I LOVEEE BROWNIESSS 😍😍💛 from Nanzbakehouse.#Foodtalkindia #delicious #delhigram #feedfeed #buzzfeast #recipe #mumbaifoodie #mumbaifood  #ilovefood #instafood #nomnom #hungry #foodstagram #eeeeeats #foodblogger #delhifoodie #foodoftheday #foodgasm #delhi_igers #foodiesince96 #waffle #wafflelover #sweet #meetha #waffleland #savourywaffle #waffles ...Follow @foodiesince96 💫💫 for more delicious updatesYouTube - Mehak Dhawan Snapchat - Foodiesince96\n",
      "-------------------------------------------------------------------------------------------------------------\n",
      "Snickers Homemade Freak Shake 😍😍 This came out so delicious can’t describe in words. ..- Milk ( you can use full fat milk also ) - Chocolate sauce - Caramel sauce - 2 snickers ( makes 2 glass ) -Vanilla ice cream -Whipping cream - Choco Chips..#Foodtalkindia #delicious #delhigram #feedfeed #buzzfeast #recipe #mumbaifoodie #mumbaifood  #ilovefood #instafood #nomnom #hungry #foodstagram #eeeeeats #foodblogger #delhifoodie #foodoftheday #foodgasm #delhi_igers #foodiesince96 #shake #shakelover #snicker #chocolate #thickshake #icecream #chocolate ...Follow @foodiesince96 💫💫 for more delicious updatesYouTube - Mehak Dhawan Snapchat - Foodiesince96\n",
      "-------------------------------------------------------------------------------------------------------------\n",
      "WAFFLE HEAVEN 😍🧇🧇..#Foodtalkindia #delicious #delhigram #feedfeed #buzzfeast #recipe #mumbaifoodie #mumbaifood  #ilovefood #instafood #nomnom #hungry #foodstagram #eeeeeats #foodblogger #delhifoodie #foodoftheday #foodgasm #delhi_igers #foodiesince96 #waffle #wafflelover #sweet #meetha #waffleland #savourywaffle #waffles ...Follow @foodiesince96 💫💫 for more delicious updatesYouTube - Mehak Dhawan Snapchat - Foodiesince96\n",
      "-------------------------------------------------------------------------------------------------------------\n",
      "Why am I like this 🤣🤣🙈🙈 Video banwate huye who makes such faces 😆😆😆🙈🙈 also I’m craving for Malai soya chaap it’s been so long 😭😭😭🙆🏼‍♀️🙆🏼‍♀️ this was at Zaika Dilli..#Foodtalkindia #delicious #delhigram #feedfeed #buzzfeast #recipe #mumbaifoodie #mumbaifood  #ilovefood #instafood #nomnom #hungry #foodstagram #eeeeeats #foodblogger #delhifoodie #foodoftheday #foodgasm #delhi_igers #foodiesince96 #indiansweets #dessert #soyachaap #soya #streetfood #malaichaap ...Follow @foodiesince96 💫💫 for more delicious updatesYouTube - Mehak Dhawan Snapchat - Foodiesince96\n",
      "-------------------------------------------------------------------------------------------------------------\n",
      "Tag someone who loves North Indian food, This feast is vegetarian 🌱..#indianfood #desifood #streetfood #restaurant #Foodtalkindia #delicious #delhigram #feedfeed #buzzfeast #recipe #mumbaifoodie #mumbaifood  #ilovefood #instafood #nomnom #hungry #foodstagram #eeeeeats #foodblogger #delhifoodie #foodoftheday #foodgasm #delhi_igers #foodiesince96 ...Follow @foodiesince96 💫💫 for more delicious updatesYouTube - Mehak Dhawan Snapchat - Foodiesince96\n",
      "-------------------------------------------------------------------------------------------------------------\n",
      "As you all know I love Desserts so much here’s my favourite Indian desserts recipes, which you can try at home 😍😍 ..1) Shahi Tukda ( full details recipe on YouTube ) 2) Shahi Kheer 3) Shahi Makhana Kheer 4) Dry Fruit Paratha 5) Mango Delight ..Which is your favourite? Mine are all 🤪🤪🤣🤣🙈..#Foodtalkindia #delicious #delhigram #feedfeed #buzzfeast #recipe #mumbaifoodie #mumbaifood  #ilovefood #instafood #nomnom #hungry #foodstagram #eeeeeats #foodblogger #delhifoodie #foodoftheday #foodgasm #delhi_igers #foodiesince96 #indiansweets #dessert #shahitukda #indian #sweets #meetha #kheer #mango #dryfruit #homemade ...Follow @foodiesince96 💫💫 for more delicious updatesYouTube - Mehak Dhawan Snapchat - Foodiesince96\n",
      "-------------------------------------------------------------------------------------------------------------\n",
      "Who’s up for this tangy masla Pav Bhaji with cute mini size pavs and butter 😍😍💛...#Foodtalkindia #delicious #delhigram #feedfeed #buzzfeast #foodies #mumbaifoodie #mumbaifood  #ilovefood #instafood #nomnom #hungry #foodstagram #eeeeeats #gurgaon #foodblogger #delhifoodie #foodoftheday #foodgasm #delhi_igers #foodiesince96 #pavbhaji #pavs #streetfood #resturantfood ...Follow @foodiesince96 💫💫 for more delicious updatesYouTube - Mehak Dhawan Snapchat - Foodiesince96\n",
      "-------------------------------------------------------------------------------------------------------------\n",
      "Craving for this ice cream sundae 😍🍨🍨 Look at this beauty 🙈🙈..#Foodtalkindia #delicious #delhigram #feedfeed #buzzfeast #foodies #mumbaifoodie #mumbaifood  #ilovefood #instafood #nomnom #hungry #foodstagram #eeeeeats #gurgaon #foodblogger #delhifoodie #foodoftheday #foodgasm #delhi_igers #foodiesince96 #indiansweets #dessert #icecream #sundae #pineapple #icecreamlovers ...Follow @foodiesince96 💫💫 for more delicious updatesYouTube - Mehak Dhawan Snapchat - Foodiesince96\n",
      "-------------------------------------------------------------------------------------------------------------\n"
     ]
    }
   ],
   "source": [
    "#this is the scrapped content of all posts\n",
    "for caption in Captions:\n",
    "    print(caption)\n",
    "    print(\"-------------------------------------------------------------------------------------------------------------\")"
   ]
  },
  {
   "cell_type": "code",
   "execution_count": 341,
   "metadata": {},
   "outputs": [],
   "source": [
    "# Removing all the users from Hashtags\n",
    "hashtags = []\n",
    "for i in Hashtags:\n",
    "    if(i[0]!='@'):\n",
    "        hashtags.append(i)\n",
    "Hashtags = hashtags"
   ]
  },
  {
   "cell_type": "markdown",
   "metadata": {},
   "source": [
    "### Mapping Frequency of Hashtags"
   ]
  },
  {
   "cell_type": "code",
   "execution_count": 344,
   "metadata": {},
   "outputs": [],
   "source": [
    "Hashtag_Dictionary = {}\n",
    "for i in Hashtags:\n",
    "    if i in Hashtag_Dictionary.keys():\n",
    "        Hashtag_Dictionary[i] += 1\n",
    "    else:\n",
    "        Hashtag_Dictionary[i] = 1"
   ]
  },
  {
   "cell_type": "code",
   "execution_count": 346,
   "metadata": {},
   "outputs": [
    {
     "name": "stdout",
     "output_type": "stream",
     "text": [
      "{'#foreverfavorite': 1, '#Emmys': 1, '#AmySchumerLearnsToCook': 1, '#RestaurantImpossible': 1, 'projectcat.discovery.com': 1, '#NoshMatespartner': 1, '#Costco': 1, '#lookdodia': 4, '#supreme': 2, '#f4follow': 2, '#followme': 2, '#giveaway': 2, '#quarentena': 2, '#followforfollowback': 2, '#dankmemes': 2, '#hairstyle': 2, '#natureza': 2, '#challenge': 2, '#xadrez': 2, '#quote': 2, '#44goiania': 2, '#CelebritySlotsPartner': 1, '#CelebritySlots': 1, '#🎰📲': 1, '#NewInTown': 1, '#TalkDrink': 1, '#thisisdelhi': 10, '#foodforlife': 20, '#macaroni': 1, '#sweets': 4, '#tasty': 10, '#yummyintummy': 10, '#video': 10, '#foodphotography': 10, '#likeforlike': 10, '#streetfood': 13, '#snacks': 10, '#yum': 10, '#spicy': 11, '#satisfying': 10, '#satisfyingvideos': 10, '#mumbaifoodblogger': 10, '#grub': 10, '#mumbai': 10, '#delhifoodblogger': 10, '#f52grams': 10, '#delhincr': 10, '#breakfast': 10, '#homemade': 11, '#dessert': 7, '#india': 10, '#indian': 11, '#indianfood': 11, '#potato': 1, '#potatotwister': 1, '#lazy': 1, '#DilliFoodJunkie': 2, '#pizza': 1, '#chicken': 1, '#garlicbread': 1, '#bakenshake': 1, '#olddelhi': 1, '#cholebhature': 1, '#amritsari': 1, '#cholekulche': 1, '#chole': 1, '#kulche': 1, '#HashmiKitchen': 1, '#hashmikitchen': 1, '#Eiddish': 1, '#EidSpecial': 1, '#muttonrecipesinhindi': 1, '#muttonrecipes': 1, '#donuts': 1, '#kitkat': 1, '#gems': 1, '#mnm': 1, '#chocolate': 3, '#mithai': 1, '#paneertikka': 1, '#paneer': 1, '#tikka': 1, '#cottagecheese': 1, '#momo': 1, '#himalayan': 1, '#lasagna': 1, '#pasta': 1, '#cheese': 1, '#Foodtalkindia': 10, '#delicious': 10, '#delhigram': 10, '#feedfeed': 10, '#buzzfeast': 10, '#recipe': 9, '#mumbaifoodie': 10, '#mumbaifood': 10, '#ilovefood': 10, '#instafood': 10, '#nomnom': 10, '#hungry': 10, '#foodstagram': 10, '#eeeeeats': 10, '#foodblogger': 10, '#delhifoodie': 10, '#foodoftheday': 10, '#foodgasm': 10, '#delhi_igers': 10, '#foodiesince96': 10, '#burger': 2, '#noodleburger': 1, '#noodles': 1, '#burgersandfries': 1, '#sushi': 1, '#sushilover': 1, '#sushitime🍣': 1, '#waffle': 2, '#wafflelover': 2, '#sweet': 2, '#meetha': 3, '#waffleland': 2, '#savourywaffle': 2, '#waffles': 2, '#shake': 1, '#shakelover': 1, '#snicker': 1, '#thickshake': 1, '#icecream': 2, '#indiansweets': 3, '#soyachaap': 1, '#soya': 1, '#malaichaap': 1, '#desifood': 1, '#restaurant': 1, '#shahitukda': 1, '#kheer': 1, '#mango': 1, '#dryfruit': 1, '#foodies': 2, '#gurgaon': 2, '#pavbhaji': 1, '#pavs': 1, '#resturantfood': 1, '#sundae': 1, '#pineapple': 1, '#icecreamlovers': 1}\n"
     ]
    }
   ],
   "source": [
    "print(Hashtag_Dictionary)"
   ]
  },
  {
   "cell_type": "markdown",
   "metadata": {},
   "source": [
    "### Storing the Data in a CSV File"
   ]
  },
  {
   "cell_type": "code",
   "execution_count": 355,
   "metadata": {},
   "outputs": [],
   "source": [
    "df = pd.DataFrame()\n",
    "Hashwords = np.array([i for i in Hashtag_Dictionary.keys()])\n",
    "Frequency = np.array([i for i in Hashtag_Dictionary.values()])\n",
    "df['Words'] = Hashwords\n",
    "df['Frequency'] = Frequency\n",
    "df.to_csv(\"Hashtag_Frequency_Count.csv\")"
   ]
  },
  {
   "cell_type": "markdown",
   "metadata": {},
   "source": [
    "### List of Trending Hashtags"
   ]
  },
  {
   "cell_type": "code",
   "execution_count": 359,
   "metadata": {},
   "outputs": [
    {
     "name": "stdout",
     "output_type": "stream",
     "text": [
      "#foodforlife  :  20\n",
      "#streetfood  :  13\n",
      "#indianfood  :  11\n",
      "#indian  :  11\n",
      "#homemade  :  11\n",
      "#spicy  :  11\n",
      "#f52grams  :  10\n",
      "#mumbaifood  :  10\n",
      "#delhifoodblogger  :  10\n",
      "#video  :  10\n",
      "#mumbaifoodblogger  :  10\n",
      "#satisfyingvideos  :  10\n",
      "#india  :  10\n",
      "#breakfast  :  10\n",
      "#ilovefood  :  10\n",
      "#delhincr  :  10\n",
      "#mumbaifoodie  :  10\n",
      "#delhi_igers  :  10\n",
      "#satisfying  :  10\n",
      "#yum  :  10\n",
      "#snacks  :  10\n",
      "#likeforlike  :  10\n",
      "#foodphotography  :  10\n",
      "#tasty  :  10\n",
      "#mumbai  :  10\n",
      "#instafood  :  10\n",
      "#foodoftheday  :  10\n",
      "#buzzfeast  :  10\n",
      "#foodgasm  :  10\n",
      "#foodstagram  :  10\n",
      "#foodiesince96  :  10\n",
      "#thisisdelhi  :  10\n",
      "#Foodtalkindia  :  10\n",
      "#delhigram  :  10\n",
      "#delicious  :  10\n",
      "#feedfeed  :  10\n",
      "#yummyintummy  :  10\n",
      "#grub  :  10\n",
      "#delhifoodie  :  10\n",
      "#foodblogger  :  10\n",
      "#eeeeeats  :  10\n",
      "#hungry  :  10\n",
      "#nomnom  :  10\n",
      "#recipe  :  9\n",
      "#dessert  :  7\n",
      "#lookdodia  :  4\n",
      "#sweets  :  4\n",
      "#meetha  :  3\n",
      "#chocolate  :  3\n",
      "#indiansweets  :  3\n",
      "#hairstyle  :  2\n",
      "#xadrez  :  2\n",
      "#gurgaon  :  2\n",
      "#waffle  :  2\n",
      "#wafflelover  :  2\n",
      "#sweet  :  2\n",
      "#waffleland  :  2\n",
      "#waffles  :  2\n",
      "#challenge  :  2\n",
      "#natureza  :  2\n",
      "#burger  :  2\n",
      "#dankmemes  :  2\n",
      "#icecream  :  2\n",
      "#followforfollowback  :  2\n",
      "#quarentena  :  2\n",
      "#giveaway  :  2\n",
      "#followme  :  2\n",
      "#f4follow  :  2\n",
      "#supreme  :  2\n",
      "#savourywaffle  :  2\n",
      "#quote  :  2\n",
      "#DilliFoodJunkie  :  2\n",
      "#44goiania  :  2\n",
      "#foodies  :  2\n",
      "#chole  :  1\n",
      "#cholebhature  :  1\n",
      "#olddelhi  :  1\n",
      "#bakenshake  :  1\n",
      "#garlicbread  :  1\n",
      "#chicken  :  1\n",
      "#mango  :  1\n",
      "#Eiddish  :  1\n",
      "#himalayan  :  1\n",
      "#pasta  :  1\n",
      "#sundae  :  1\n",
      "#resturantfood  :  1\n",
      "#pavs  :  1\n",
      "#pavbhaji  :  1\n",
      "#pizza  :  1\n",
      "#HashmiKitchen  :  1\n",
      "#cottagecheese  :  1\n",
      "#dryfruit  :  1\n",
      "#amritsari  :  1\n",
      "#mnm  :  1\n",
      "#kitkat  :  1\n",
      "#tikka  :  1\n",
      "#paneer  :  1\n",
      "#paneertikka  :  1\n",
      "#mithai  :  1\n",
      "#cholekulche  :  1\n",
      "#donuts  :  1\n",
      "#hashmikitchen  :  1\n",
      "#kulche  :  1\n",
      "#pineapple  :  1\n",
      "#muttonrecipesinhindi  :  1\n",
      "#momo  :  1\n",
      "#EidSpecial  :  1\n",
      "#gems  :  1\n",
      "#kheer  :  1\n",
      "#shahitukda  :  1\n",
      "#shake  :  1\n",
      "#potatotwister  :  1\n",
      "#🎰📲  :  1\n",
      "#CelebritySlots  :  1\n",
      "#CelebritySlotsPartner  :  1\n",
      "#NewInTown  :  1\n",
      "#TalkDrink  :  1\n",
      "#macaroni  :  1\n",
      "#muttonrecipes  :  1\n",
      "#restaurant  :  1\n",
      "#potato  :  1\n",
      "#Emmys  :  1\n",
      "#AmySchumerLearnsToCook  :  1\n",
      "#RestaurantImpossible  :  1\n",
      "projectcat.discovery.com  :  1\n",
      "#cheese  :  1\n",
      "#Costco  :  1\n",
      "#NoshMatespartner  :  1\n",
      "#malaichaap  :  1\n",
      "#soyachaap  :  1\n",
      "#lasagna  :  1\n",
      "#soya  :  1\n",
      "#thickshake  :  1\n",
      "#snicker  :  1\n",
      "#desifood  :  1\n",
      "#shakelover  :  1\n",
      "#sushilover  :  1\n",
      "#icecreamlovers  :  1\n",
      "#sushi  :  1\n",
      "#burgersandfries  :  1\n",
      "#noodles  :  1\n",
      "#noodleburger  :  1\n",
      "#sushitime🍣  :  1\n",
      "#lazy  :  1\n",
      "#foreverfavorite  :  1\n"
     ]
    }
   ],
   "source": [
    "Hashwords = Hashwords[np.argsort(Frequency)][::-1]\n",
    "Frequency = Frequency[np.argsort(Frequency)][::-1]\n",
    "for i in range(len(Hashwords)):\n",
    "    print(Hashwords[i],\" : \",Frequency[i])"
   ]
  },
  {
   "cell_type": "markdown",
   "metadata": {},
   "source": [
    "### Plotting a Pie Chart"
   ]
  },
  {
   "cell_type": "code",
   "execution_count": 363,
   "metadata": {},
   "outputs": [
    {
     "data": {
      "image/png": "[encoded data removed]",
      "text/plain": [
       "<Figure size 720x720 with 1 Axes>"
      ]
     },
     "metadata": {},
     "output_type": "display_data"
    }
   ],
   "source": [
    "x=Hashwords[:5]\n",
    "y=Frequency[:5]\n",
    "plt.figure(figsize=(10, 10))\n",
    "plt.pie(y, labels=x, autopct='%.2f%%', shadow=True, labeldistance=1.2)\n",
    "plt.title('Pie Chart of Most Trending Hashtags',color=\"white\")\n",
    "plt.show()"
   ]
  },
  {
   "cell_type": "code",
   "execution_count": null,
   "metadata": {},
   "outputs": [],
   "source": []
  },
  {
   "cell_type": "code",
   "execution_count": null,
   "metadata": {},
   "outputs": [],
   "source": []
  },
  {
   "cell_type": "code",
   "execution_count": null,
   "metadata": {},
   "outputs": [],
   "source": []
  },
  {
   "cell_type": "code",
   "execution_count": null,
   "metadata": {},
   "outputs": [],
   "source": []
  }
 ],
 "metadata": {
  "kernelspec": {
   "display_name": "Python 3",
   "language": "python",
   "name": "python3"
  },
  "language_info": {
   "codemirror_mode": {
    "name": "ipython",
    "version": 3
   },
   "file_extension": ".py",
   "mimetype": "text/x-python",
   "name": "python",
   "nbconvert_exporter": "python",
   "pygments_lexer": "ipython3",
   "version": "3.7.6"
  }
 },
 "nbformat": 4,
 "nbformat_minor": 4
}
